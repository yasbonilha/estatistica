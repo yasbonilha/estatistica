{
  "nbformat": 4,
  "nbformat_minor": 0,
  "metadata": {
    "colab": {
      "provenance": [],
      "toc_visible": true
    },
    "kernelspec": {
      "name": "python3",
      "display_name": "Python 3"
    },
    "language_info": {
      "name": "python"
    }
  },
  "cells": [
    {
      "cell_type": "markdown",
      "source": [
        "# TTI109 - Atividade: Estatística Descritiva\n",
        "## Onde é mais caro viver? Gotham City ou Metrópolis?\n",
        "Sua equipe deve responder a essa pergunta com base em dados acerca de aluguéis praticados em diversos pontos das duas cidades, em vários tipos de residências. As informações reúnem a área dos imóveis, os impostos, seguros e aluguéis mensais.\n",
        "\n",
        "Faça o upload do arquivo `alugueis.csv`, execute o código abaixo e verifique o formato do conjunto de dados."
      ],
      "metadata": {
        "id": "QEH_7FvGl7wm"
      }
    },
    {
      "cell_type": "code",
      "source": [
        "from google.colab import drive\n",
        "drive.mount('/content/drive')"
      ],
      "metadata": {
        "colab": {
          "base_uri": "https://localhost:8080/"
        },
        "id": "zf5RfUN7Zmcy",
        "outputId": "9f832b75-9056-46f7-96e3-efbc3c12542b"
      },
      "execution_count": 1,
      "outputs": [
        {
          "output_type": "stream",
          "name": "stdout",
          "text": [
            "Mounted at /content/drive\n"
          ]
        }
      ]
    },
    {
      "cell_type": "code",
      "execution_count": 2,
      "metadata": {
        "id": "zkRcdkkULvOz",
        "colab": {
          "base_uri": "https://localhost:8080/",
          "height": 363
        },
        "outputId": "f74ffda4-2953-40ac-ae17-4b18d20c8bb0"
      },
      "outputs": [
        {
          "output_type": "execute_result",
          "data": {
            "text/plain": [
              "       Cidade  Área  Impostos  Seguro  Total\n",
              "0      Gotham   240      1000     121   9121\n",
              "1  Metrópolis    64       122      11   1493\n",
              "2      Gotham    73       150      16   2116\n",
              "3      Gotham    19        41      16   1257\n",
              "4      Gotham    13        42      28   2270\n",
              "5      Gotham    55       375      64   7389\n",
              "6      Gotham    55        67      17   1984\n",
              "7      Gotham    82       109      26   2963\n",
              "8      Gotham    32         0      37   3470\n",
              "9  Metrópolis    60        20      10   1230"
            ],
            "text/html": [
              "\n",
              "  <div id=\"df-5dfe2058-3635-40a3-ab37-46e4996b7c9e\" class=\"colab-df-container\">\n",
              "    <div>\n",
              "<style scoped>\n",
              "    .dataframe tbody tr th:only-of-type {\n",
              "        vertical-align: middle;\n",
              "    }\n",
              "\n",
              "    .dataframe tbody tr th {\n",
              "        vertical-align: top;\n",
              "    }\n",
              "\n",
              "    .dataframe thead th {\n",
              "        text-align: right;\n",
              "    }\n",
              "</style>\n",
              "<table border=\"1\" class=\"dataframe\">\n",
              "  <thead>\n",
              "    <tr style=\"text-align: right;\">\n",
              "      <th></th>\n",
              "      <th>Cidade</th>\n",
              "      <th>Área</th>\n",
              "      <th>Impostos</th>\n",
              "      <th>Seguro</th>\n",
              "      <th>Total</th>\n",
              "    </tr>\n",
              "  </thead>\n",
              "  <tbody>\n",
              "    <tr>\n",
              "      <th>0</th>\n",
              "      <td>Gotham</td>\n",
              "      <td>240</td>\n",
              "      <td>1000</td>\n",
              "      <td>121</td>\n",
              "      <td>9121</td>\n",
              "    </tr>\n",
              "    <tr>\n",
              "      <th>1</th>\n",
              "      <td>Metrópolis</td>\n",
              "      <td>64</td>\n",
              "      <td>122</td>\n",
              "      <td>11</td>\n",
              "      <td>1493</td>\n",
              "    </tr>\n",
              "    <tr>\n",
              "      <th>2</th>\n",
              "      <td>Gotham</td>\n",
              "      <td>73</td>\n",
              "      <td>150</td>\n",
              "      <td>16</td>\n",
              "      <td>2116</td>\n",
              "    </tr>\n",
              "    <tr>\n",
              "      <th>3</th>\n",
              "      <td>Gotham</td>\n",
              "      <td>19</td>\n",
              "      <td>41</td>\n",
              "      <td>16</td>\n",
              "      <td>1257</td>\n",
              "    </tr>\n",
              "    <tr>\n",
              "      <th>4</th>\n",
              "      <td>Gotham</td>\n",
              "      <td>13</td>\n",
              "      <td>42</td>\n",
              "      <td>28</td>\n",
              "      <td>2270</td>\n",
              "    </tr>\n",
              "    <tr>\n",
              "      <th>5</th>\n",
              "      <td>Gotham</td>\n",
              "      <td>55</td>\n",
              "      <td>375</td>\n",
              "      <td>64</td>\n",
              "      <td>7389</td>\n",
              "    </tr>\n",
              "    <tr>\n",
              "      <th>6</th>\n",
              "      <td>Gotham</td>\n",
              "      <td>55</td>\n",
              "      <td>67</td>\n",
              "      <td>17</td>\n",
              "      <td>1984</td>\n",
              "    </tr>\n",
              "    <tr>\n",
              "      <th>7</th>\n",
              "      <td>Gotham</td>\n",
              "      <td>82</td>\n",
              "      <td>109</td>\n",
              "      <td>26</td>\n",
              "      <td>2963</td>\n",
              "    </tr>\n",
              "    <tr>\n",
              "      <th>8</th>\n",
              "      <td>Gotham</td>\n",
              "      <td>32</td>\n",
              "      <td>0</td>\n",
              "      <td>37</td>\n",
              "      <td>3470</td>\n",
              "    </tr>\n",
              "    <tr>\n",
              "      <th>9</th>\n",
              "      <td>Metrópolis</td>\n",
              "      <td>60</td>\n",
              "      <td>20</td>\n",
              "      <td>10</td>\n",
              "      <td>1230</td>\n",
              "    </tr>\n",
              "  </tbody>\n",
              "</table>\n",
              "</div>\n",
              "    <div class=\"colab-df-buttons\">\n",
              "\n",
              "  <div class=\"colab-df-container\">\n",
              "    <button class=\"colab-df-convert\" onclick=\"convertToInteractive('df-5dfe2058-3635-40a3-ab37-46e4996b7c9e')\"\n",
              "            title=\"Convert this dataframe to an interactive table.\"\n",
              "            style=\"display:none;\">\n",
              "\n",
              "  <svg xmlns=\"http://www.w3.org/2000/svg\" height=\"24px\" viewBox=\"0 -960 960 960\">\n",
              "    <path d=\"M120-120v-720h720v720H120Zm60-500h600v-160H180v160Zm220 220h160v-160H400v160Zm0 220h160v-160H400v160ZM180-400h160v-160H180v160Zm440 0h160v-160H620v160ZM180-180h160v-160H180v160Zm440 0h160v-160H620v160Z\"/>\n",
              "  </svg>\n",
              "    </button>\n",
              "\n",
              "  <style>\n",
              "    .colab-df-container {\n",
              "      display:flex;\n",
              "      gap: 12px;\n",
              "    }\n",
              "\n",
              "    .colab-df-convert {\n",
              "      background-color: #E8F0FE;\n",
              "      border: none;\n",
              "      border-radius: 50%;\n",
              "      cursor: pointer;\n",
              "      display: none;\n",
              "      fill: #1967D2;\n",
              "      height: 32px;\n",
              "      padding: 0 0 0 0;\n",
              "      width: 32px;\n",
              "    }\n",
              "\n",
              "    .colab-df-convert:hover {\n",
              "      background-color: #E2EBFA;\n",
              "      box-shadow: 0px 1px 2px rgba(60, 64, 67, 0.3), 0px 1px 3px 1px rgba(60, 64, 67, 0.15);\n",
              "      fill: #174EA6;\n",
              "    }\n",
              "\n",
              "    .colab-df-buttons div {\n",
              "      margin-bottom: 4px;\n",
              "    }\n",
              "\n",
              "    [theme=dark] .colab-df-convert {\n",
              "      background-color: #3B4455;\n",
              "      fill: #D2E3FC;\n",
              "    }\n",
              "\n",
              "    [theme=dark] .colab-df-convert:hover {\n",
              "      background-color: #434B5C;\n",
              "      box-shadow: 0px 1px 3px 1px rgba(0, 0, 0, 0.15);\n",
              "      filter: drop-shadow(0px 1px 2px rgba(0, 0, 0, 0.3));\n",
              "      fill: #FFFFFF;\n",
              "    }\n",
              "  </style>\n",
              "\n",
              "    <script>\n",
              "      const buttonEl =\n",
              "        document.querySelector('#df-5dfe2058-3635-40a3-ab37-46e4996b7c9e button.colab-df-convert');\n",
              "      buttonEl.style.display =\n",
              "        google.colab.kernel.accessAllowed ? 'block' : 'none';\n",
              "\n",
              "      async function convertToInteractive(key) {\n",
              "        const element = document.querySelector('#df-5dfe2058-3635-40a3-ab37-46e4996b7c9e');\n",
              "        const dataTable =\n",
              "          await google.colab.kernel.invokeFunction('convertToInteractive',\n",
              "                                                    [key], {});\n",
              "        if (!dataTable) return;\n",
              "\n",
              "        const docLinkHtml = 'Like what you see? Visit the ' +\n",
              "          '<a target=\"_blank\" href=https://colab.research.google.com/notebooks/data_table.ipynb>data table notebook</a>'\n",
              "          + ' to learn more about interactive tables.';\n",
              "        element.innerHTML = '';\n",
              "        dataTable['output_type'] = 'display_data';\n",
              "        await google.colab.output.renderOutput(dataTable, element);\n",
              "        const docLink = document.createElement('div');\n",
              "        docLink.innerHTML = docLinkHtml;\n",
              "        element.appendChild(docLink);\n",
              "      }\n",
              "    </script>\n",
              "  </div>\n",
              "\n",
              "\n",
              "<div id=\"df-e0e30ab3-4bb6-4421-936d-a20bf26aeb83\">\n",
              "  <button class=\"colab-df-quickchart\" onclick=\"quickchart('df-e0e30ab3-4bb6-4421-936d-a20bf26aeb83')\"\n",
              "            title=\"Suggest charts.\"\n",
              "            style=\"display:none;\">\n",
              "\n",
              "<svg xmlns=\"http://www.w3.org/2000/svg\" height=\"24px\"viewBox=\"0 0 24 24\"\n",
              "     width=\"24px\">\n",
              "    <g>\n",
              "        <path d=\"M19 3H5c-1.1 0-2 .9-2 2v14c0 1.1.9 2 2 2h14c1.1 0 2-.9 2-2V5c0-1.1-.9-2-2-2zM9 17H7v-7h2v7zm4 0h-2V7h2v10zm4 0h-2v-4h2v4z\"/>\n",
              "    </g>\n",
              "</svg>\n",
              "  </button>\n",
              "\n",
              "<style>\n",
              "  .colab-df-quickchart {\n",
              "      --bg-color: #E8F0FE;\n",
              "      --fill-color: #1967D2;\n",
              "      --hover-bg-color: #E2EBFA;\n",
              "      --hover-fill-color: #174EA6;\n",
              "      --disabled-fill-color: #AAA;\n",
              "      --disabled-bg-color: #DDD;\n",
              "  }\n",
              "\n",
              "  [theme=dark] .colab-df-quickchart {\n",
              "      --bg-color: #3B4455;\n",
              "      --fill-color: #D2E3FC;\n",
              "      --hover-bg-color: #434B5C;\n",
              "      --hover-fill-color: #FFFFFF;\n",
              "      --disabled-bg-color: #3B4455;\n",
              "      --disabled-fill-color: #666;\n",
              "  }\n",
              "\n",
              "  .colab-df-quickchart {\n",
              "    background-color: var(--bg-color);\n",
              "    border: none;\n",
              "    border-radius: 50%;\n",
              "    cursor: pointer;\n",
              "    display: none;\n",
              "    fill: var(--fill-color);\n",
              "    height: 32px;\n",
              "    padding: 0;\n",
              "    width: 32px;\n",
              "  }\n",
              "\n",
              "  .colab-df-quickchart:hover {\n",
              "    background-color: var(--hover-bg-color);\n",
              "    box-shadow: 0 1px 2px rgba(60, 64, 67, 0.3), 0 1px 3px 1px rgba(60, 64, 67, 0.15);\n",
              "    fill: var(--button-hover-fill-color);\n",
              "  }\n",
              "\n",
              "  .colab-df-quickchart-complete:disabled,\n",
              "  .colab-df-quickchart-complete:disabled:hover {\n",
              "    background-color: var(--disabled-bg-color);\n",
              "    fill: var(--disabled-fill-color);\n",
              "    box-shadow: none;\n",
              "  }\n",
              "\n",
              "  .colab-df-spinner {\n",
              "    border: 2px solid var(--fill-color);\n",
              "    border-color: transparent;\n",
              "    border-bottom-color: var(--fill-color);\n",
              "    animation:\n",
              "      spin 1s steps(1) infinite;\n",
              "  }\n",
              "\n",
              "  @keyframes spin {\n",
              "    0% {\n",
              "      border-color: transparent;\n",
              "      border-bottom-color: var(--fill-color);\n",
              "      border-left-color: var(--fill-color);\n",
              "    }\n",
              "    20% {\n",
              "      border-color: transparent;\n",
              "      border-left-color: var(--fill-color);\n",
              "      border-top-color: var(--fill-color);\n",
              "    }\n",
              "    30% {\n",
              "      border-color: transparent;\n",
              "      border-left-color: var(--fill-color);\n",
              "      border-top-color: var(--fill-color);\n",
              "      border-right-color: var(--fill-color);\n",
              "    }\n",
              "    40% {\n",
              "      border-color: transparent;\n",
              "      border-right-color: var(--fill-color);\n",
              "      border-top-color: var(--fill-color);\n",
              "    }\n",
              "    60% {\n",
              "      border-color: transparent;\n",
              "      border-right-color: var(--fill-color);\n",
              "    }\n",
              "    80% {\n",
              "      border-color: transparent;\n",
              "      border-right-color: var(--fill-color);\n",
              "      border-bottom-color: var(--fill-color);\n",
              "    }\n",
              "    90% {\n",
              "      border-color: transparent;\n",
              "      border-bottom-color: var(--fill-color);\n",
              "    }\n",
              "  }\n",
              "</style>\n",
              "\n",
              "  <script>\n",
              "    async function quickchart(key) {\n",
              "      const quickchartButtonEl =\n",
              "        document.querySelector('#' + key + ' button');\n",
              "      quickchartButtonEl.disabled = true;  // To prevent multiple clicks.\n",
              "      quickchartButtonEl.classList.add('colab-df-spinner');\n",
              "      try {\n",
              "        const charts = await google.colab.kernel.invokeFunction(\n",
              "            'suggestCharts', [key], {});\n",
              "      } catch (error) {\n",
              "        console.error('Error during call to suggestCharts:', error);\n",
              "      }\n",
              "      quickchartButtonEl.classList.remove('colab-df-spinner');\n",
              "      quickchartButtonEl.classList.add('colab-df-quickchart-complete');\n",
              "    }\n",
              "    (() => {\n",
              "      let quickchartButtonEl =\n",
              "        document.querySelector('#df-e0e30ab3-4bb6-4421-936d-a20bf26aeb83 button');\n",
              "      quickchartButtonEl.style.display =\n",
              "        google.colab.kernel.accessAllowed ? 'block' : 'none';\n",
              "    })();\n",
              "  </script>\n",
              "</div>\n",
              "    </div>\n",
              "  </div>\n"
            ]
          },
          "metadata": {},
          "execution_count": 2
        }
      ],
      "source": [
        "import pandas as pd\n",
        "import matplotlib.pyplot as plt\n",
        "\n",
        "# Importação dos dados\n",
        "casas = pd.read_csv('alugueis.csv')\n",
        "\n",
        "# Inspecção das 10 primeiras linhas do DataFrame\n",
        "casas.head(10)"
      ]
    },
    {
      "cell_type": "markdown",
      "source": [
        "## Distribuição dos seguros residenciais\n",
        "Construa histogramas para a distribuição de seguros residenciais em cada uma das cidades. A separação dos dados por cidade já está codificada nos DataFrames `casas_Gotham` e `casas_Met`.\n",
        "\n",
        "Além disso, nos histogramas aplique:\n",
        "\n",
        "*   Limite inferior da primeira classe: $0$\n",
        "*   Limite superior da última classe: $170$\n",
        "*   Amplitude das classes: $10$\n",
        "*   Eixo horizontal calibrado nos pontos médios das classes\n",
        "\n",
        "\n",
        "\n",
        "\n",
        "\n"
      ],
      "metadata": {
        "id": "seh5LJAhoFtw"
      }
    },
    {
      "cell_type": "code",
      "source": [
        "## Histograma de seguros - Gotham City\n",
        "\n",
        "# Escolhendo a cidade de Gotham\n",
        "casas_Gotham = casas.loc[casas['Cidade']=='Gotham']\n",
        "\n",
        "# Constantes para construção das classes\n",
        "MIN = 0\n",
        "MAX = 170\n",
        "AMP = 10\n",
        "TAM_FIG = (10, 6)\n",
        "\n",
        "# Determinação das classes\n",
        "classes = pd.interval_range(start=MIN, end=MAX, freq=AMP)\n",
        "\n",
        "# Pontos médios das classes\n",
        "medios = [classe.mid for classe in classes]\n",
        "\n",
        "# Histograma Gotham\n",
        "hist_seg_Gotham = casas_Gotham['Seguro'].hist(bins=[classe.left for classe in classes]+\n",
        "                                              [classes[-1].right],\n",
        "                                              color='green', edgecolor='black',\n",
        "                                              grid=False, figsize=TAM_FIG)\n",
        "\n",
        "# Escalas dos eixos dos histogramas\n",
        "eixo_x = medios\n",
        "\n",
        "# Atributos do histograma\n",
        "hist_seg_Gotham.set(title='Seguros residenciais em Gotham City',\n",
        "                    xlabel='Seguro', ylabel='Frequência',\n",
        "                    xticks=eixo_x)\n",
        "plt.show()"
      ],
      "metadata": {
        "id": "-kYauBgejS2n",
        "colab": {
          "base_uri": "https://localhost:8080/",
          "height": 500
        },
        "outputId": "2c9aca50-468a-4a8f-f3f3-71a9222863e3"
      },
      "execution_count": 4,
      "outputs": [
        {
          "output_type": "display_data",
          "data": {
            "text/plain": [
              "<Figure size 1000x600 with 1 Axes>"
            ],
            "image/png": "[encoded data removed]"
          },
          "metadata": {}
        }
      ]
    },
    {
      "cell_type": "code",
      "source": [
        "## Histograma de seguros - Metrópolis\n",
        "\n",
        "# Escolhendo a cidade de Metrópolis\n",
        "casas_Met = casas.loc[casas['Cidade']=='Metrópolis']\n",
        "\n",
        "# Constantes para construção das classes\n",
        "MIN = 0\n",
        "MAX = 170\n",
        "AMP = 10\n",
        "TAM_FIG = (10, 6)\n",
        "\n",
        "# Determinação das classes\n",
        "classes = pd.interval_range(start=MIN, end=MAX, freq=AMP)\n",
        "\n",
        "# Pontos médios das classes\n",
        "medios = [classe.mid for classe in classes]\n",
        "\n",
        "# Histograma Metrópolis\n",
        "hist_seg_Met = casas_Met['Seguro'].hist(bins=[classe.left for classe in classes]+\n",
        "                                              [classes[-1].right],\n",
        "                                              color='green', edgecolor='black',\n",
        "                                              grid=False, figsize=TAM_FIG)\n",
        "\n",
        "# Escalas dos eixos dos histogramas\n",
        "eixo_x = medios\n",
        "\n",
        "# Atributos do histograma\n",
        "hist_seg_Met.set(title='Seguros residenciais em Metrópolis',\n",
        "                 xlabel='Seguro', ylabel='Frequência',\n",
        "                 xticks=medios)\n",
        "plt.show()"
      ],
      "metadata": {
        "id": "RIEI6c9foq4I",
        "colab": {
          "base_uri": "https://localhost:8080/",
          "height": 501
        },
        "outputId": "2416b917-9e9d-4a2a-c49e-769444baede4"
      },
      "execution_count": 7,
      "outputs": [
        {
          "output_type": "display_data",
          "data": {
            "text/plain": [
              "<Figure size 1000x600 with 1 Axes>"
            ],
            "image/png": "[encoded data removed]"
          },
          "metadata": {}
        }
      ]
    },
    {
      "cell_type": "markdown",
      "source": [
        "## Responda:\n",
        "Quais as duas classes mais frequentes em cada histograma?  \n"
      ],
      "metadata": {
        "id": "gCycTH0Qql-1"
      }
    },
    {
      "cell_type": "code",
      "source": [
        "resp_1 = \"Escreva sua resposta aqui.\" # @param {type:\"string\"}\n",
        "print(resp_1)"
      ],
      "metadata": {
        "id": "V6jE1arYdQ4u"
      },
      "execution_count": null,
      "outputs": []
    },
    {
      "cell_type": "markdown",
      "source": [
        "Qual cidade deve ter o seguro médio mais caro? Por quê?\n"
      ],
      "metadata": {
        "id": "V6i00uZ0dNe-"
      }
    },
    {
      "cell_type": "code",
      "source": [
        "resp_2 = \"Escreva sua resposta aqui.\" # @param {type:\"string\"}\n",
        "print(resp_2)"
      ],
      "metadata": {
        "id": "QR5_L8-1dtrn"
      },
      "execution_count": null,
      "outputs": []
    },
    {
      "cell_type": "markdown",
      "source": [
        "# Medidas centrais e de variação das distribuições de aluguéis\n",
        "Calcule as medidas centrais e de variação das distribuições de aluguéis em cada cidade (coluna `Total` dos `DataFrames` `casas_Gotham` e `casas_Met`). Use o método `agg` para calcular as medidas necessárias."
      ],
      "metadata": {
        "id": "P1rEuoCTrmQA"
      }
    },
    {
      "cell_type": "code",
      "source": [
        "# Medidas centrais e de variação para Gotham City\n",
        "print('**Gotham City**')\n",
        "est_Gotham = casas_Gotham['Total'].'Complete aqui'\n",
        "display(est_Gotham)"
      ],
      "metadata": {
        "id": "nc5ZOOeprd-Q"
      },
      "execution_count": null,
      "outputs": []
    },
    {
      "cell_type": "code",
      "source": [
        "# Medidas centrais e de variação para Metrópolis\n",
        "print('**Metrópolis**')\n",
        "est_Met = casas_Met['Total'].'Complete aqui'\n",
        "display(est_Met)"
      ],
      "metadata": {
        "id": "7P4InD-CgXR-"
      },
      "execution_count": null,
      "outputs": []
    },
    {
      "cell_type": "markdown",
      "source": [
        "## Responda:\n",
        "Qual das cidades apresenta o aluguel médio mais caro?"
      ],
      "metadata": {
        "id": "QnIzstG6s-7d"
      }
    },
    {
      "cell_type": "code",
      "source": [
        "resp_3 = \"Escreva sua resposta aqui.\" # @param {type:\"string\"}\n",
        "print(resp_3)\n"
      ],
      "metadata": {
        "id": "KOz9jXQxLOZf"
      },
      "execution_count": null,
      "outputs": []
    },
    {
      "cell_type": "markdown",
      "source": [
        "Qual das cidades apresenta o aluguel com maior mediana?"
      ],
      "metadata": {
        "id": "yB2WgypzLMYV"
      }
    },
    {
      "cell_type": "code",
      "source": [
        "resp_4 = \"Escreva sua resposta aqui.\" # @param {type:\"string\"}\n",
        "print(resp_4)\n"
      ],
      "metadata": {
        "id": "kdyOOhziL4RG"
      },
      "execution_count": null,
      "outputs": []
    },
    {
      "cell_type": "markdown",
      "source": [
        "Qual das cidades apresenta alugueis com menor desvio padrão?"
      ],
      "metadata": {
        "id": "sR7dnvM5Lx7W"
      }
    },
    {
      "cell_type": "code",
      "source": [
        "resp_5 = \"Escreva sua resposta aqui.\" # @param {type:\"string\"}\n",
        "print(resp_5)"
      ],
      "metadata": {
        "id": "BMBgATk0MUL2"
      },
      "execution_count": null,
      "outputs": []
    },
    {
      "cell_type": "markdown",
      "source": [
        "## Quartis da distribuição de impostos residenciais\n",
        "Determine os quartis para a distribuição de impostos residenciais de cada cidade. A seguir, construa os respectivos diagramas boxplot."
      ],
      "metadata": {
        "id": "0z4ZmRV9tWqO"
      }
    },
    {
      "cell_type": "code",
      "source": [
        "# Lista dos quartis\n",
        "lista_quartis = 'Complete aqui'\n",
        "\n",
        "# Quartis dos impostos em Gotham City\n",
        "print('**Gotham City**')\n",
        "imp_Gotham = casas_Gotham['Impostos'].'Complete aqui'\n",
        "display(imp_Gotham)\n",
        "\n",
        "# Quartis dos impostos em Metrópolis\n",
        "print('**Metrópolis**')\n",
        "imp_Met = casas_Met['Impostos'].'Complete aqui'\n",
        "display(imp_Met)\n",
        "\n",
        "# Boxplots\n",
        "casas.boxplot(by='Complete aqui', column=['Complete aqui'], color='red',\n",
        "              figsize=TAM_FIG, showmeans=True, whis=1.5)\n",
        "plt.title('Distribuição dos impostos residenciais')\n",
        "plt.suptitle('')\n",
        "plt.ylabel('Imposto')\n",
        "plt.show()"
      ],
      "metadata": {
        "id": "-mrVUhfGtPvs"
      },
      "execution_count": null,
      "outputs": []
    },
    {
      "cell_type": "markdown",
      "source": [
        "## Responda:\n",
        "Com base nos diagramas boxplot, classifique a distribuição dos impostos em cada cidade como simétricas, assimétricas à esquerda ou assimétricas à direita. Por quê?"
      ],
      "metadata": {
        "id": "SgIdR6Esw5G-"
      }
    },
    {
      "cell_type": "code",
      "source": [
        "resp_6 = \"Escreva sua resposta aqui.\" # @param {type:\"string\"}\n",
        "print(resp_6)"
      ],
      "metadata": {
        "id": "faWDKNzpwdvv"
      },
      "execution_count": null,
      "outputs": []
    },
    {
      "cell_type": "markdown",
      "source": [
        "## Conclusão\n",
        "E então? Quem gasta mais com aluguel: Batman ou Superman?"
      ],
      "metadata": {
        "id": "ttFNowPcyCiJ"
      }
    },
    {
      "cell_type": "code",
      "source": [
        "resp_7 = \"Escreva sua resposta aqui.\" # @param {type:\"string\"}\n",
        "print(resp_7)"
      ],
      "metadata": {
        "id": "In4e-czKyxv9"
      },
      "execution_count": null,
      "outputs": []
    }
  ]
}